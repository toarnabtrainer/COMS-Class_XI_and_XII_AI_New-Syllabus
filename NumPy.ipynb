{
 "cells": [
  {
   "cell_type": "markdown",
   "id": "491da494-eeef-4735-a32c-ac6b93490be0",
   "metadata": {},
   "source": [
    "### **NUMPY: Arrays and Matrices**"
   ]
  },
  {
   "cell_type": "markdown",
   "id": "cdb8af48-9fea-4662-8b83-8e312718982e",
   "metadata": {},
   "source": [
    "**NumPy** is an extension to the Python programming language, adding support for large, multi-dimensional (numerical) arrays and matrices, along with a large library of high-level mathematical functions to operate on these arrays. NumPy is having the full form **\"Numeric Python\"**."
   ]
  },
  {
   "cell_type": "code",
   "execution_count": 1,
   "id": "1023f23b-0408-4c6a-bc18-93468d205ab8",
   "metadata": {},
   "outputs": [],
   "source": [
    "# Importing Required module\n",
    "import numpy as np"
   ]
  },
  {
   "cell_type": "markdown",
   "id": "d88c7ed4-3624-4a0e-b32a-2ec2f3bde91c",
   "metadata": {},
   "source": [
    "### **Create arrays**"
   ]
  },
  {
   "cell_type": "code",
   "execution_count": 3,
   "id": "bc82c1ca-2df6-4dbd-b858-aa2be17701b3",
   "metadata": {},
   "outputs": [
    {
     "name": "stdout",
     "output_type": "stream",
     "text": [
      "[1, 2, 3, 4, 5] <class 'list'> [1 2 3 4 5] <class 'numpy.ndarray'>\n",
      "[1, 2.5, 3, 4, 5] <class 'list'> [1.  2.5 3.  4.  5. ] <class 'numpy.ndarray'>\n"
     ]
    }
   ],
   "source": [
    "# create ndarrays from lists\n",
    "# note: every element must be the same data type (will be converted is possible)\n",
    "data1 = [1, 2, 3, 4, 5]        # list (all are interger data)\n",
    "arr1 = np.array(data1)         # 1-D array\n",
    "print (data1, type(data1), arr1, type(arr1))\n",
    "data1 = [1, 2.5, 3, 4, 5]      # list (mixed data types)\n",
    "arr1 = np.array(data1)         # 1-D array (converted to all float data)\n",
    "print (data1, type(data1), arr1, type(arr1))"
   ]
  },
  {
   "cell_type": "code",
   "execution_count": 5,
   "id": "8a8270a5-4c69-4218-89c1-158008a10ba1",
   "metadata": {},
   "outputs": [
    {
     "name": "stdout",
     "output_type": "stream",
     "text": [
      "[1, 2, 3, 4]\n",
      "[range(1, 5), range(5, 9)] [range(1, 5), range(5, 9)] <class 'list'>\n",
      "[[1 2 3 4]\n",
      " [5 6 7 8]] <class 'numpy.ndarray'>\n",
      "1, 2, 3, 4, 5, 6, 7, 8, "
     ]
    }
   ],
   "source": [
    "print (list(range(1, 5)))             # range function creates a list\n",
    "data2 = [range(1, 5), range(5, 9)]    # list of lists\n",
    "arr2 = np.array(data2)                # 2-D array\n",
    "print (data2, list(data2), type(data2))\n",
    "print (arr2, type(arr2))\n",
    "for x in np.nditer(arr2):             # iterating over the ndarray\n",
    "    print (x, end = \", \")"
   ]
  },
  {
   "cell_type": "code",
   "execution_count": 7,
   "id": "c6b51dc7-35f8-4ec2-9621-3edd48fdd4d2",
   "metadata": {},
   "outputs": [
    {
     "name": "stdout",
     "output_type": "stream",
     "text": [
      "[[1, 2, 3, 4], [5, 6, 7, 8]] <class 'list'>\n",
      "[array([1, 2, 3, 4]), array([5, 6, 7, 8])] <class 'list'>\n"
     ]
    }
   ],
   "source": [
    "list2 = arr2.tolist()                  # converting ndarray back to a list\n",
    "print (list2, type(list2))\n",
    "list2 = list(arr2)                  # converting ndarray back to a list\n",
    "print (list2, type(list2))"
   ]
  },
  {
   "cell_type": "code",
   "execution_count": 8,
   "id": "a45532fc-149b-4a30-bd56-52b5f5b6ded8",
   "metadata": {},
   "outputs": [
    {
     "name": "stdout",
     "output_type": "stream",
     "text": [
      "[1.  2.5 3.  4.  5. ] <class 'numpy.ndarray'> 2887413441488\n",
      "[[1 2 3 4]\n",
      " [5 6 7 8]] <class 'numpy.ndarray'> 2887413436112\n",
      "float64 int32\n",
      "(5,) <class 'tuple'>\n",
      "(2, 4) <class 'tuple'>\n",
      "1 2\n",
      "5 8\n",
      "5 2\n"
     ]
    }
   ],
   "source": [
    "# examining arrays\n",
    "print (arr1, type(arr1), id(arr1))\n",
    "print (arr2, type(arr2), id(arr2))\n",
    "print (arr1.dtype, arr2.dtype)         # data type of the array\n",
    "print (arr1.shape, type(arr1.shape))   # shape of the array (5,) => Singleton notation\n",
    "print (arr2.shape, type(arr2.shape))   # shape of the array (2, 4)\n",
    "print (arr1.ndim, arr2.ndim)           # number of dimensions\n",
    "print (arr1.size, arr2.size)           # total number of elements\n",
    "print (len(arr1), len(arr2))           # size of the first dimension (aka axis)"
   ]
  },
  {
   "cell_type": "code",
   "execution_count": 9,
   "id": "8d7fc041-dfce-4210-bd8b-d49c00aeb91d",
   "metadata": {},
   "outputs": [
    {
     "name": "stdout",
     "output_type": "stream",
     "text": [
      "[0. 0. 0. 0. 0. 0. 0. 0. 0. 0.]\n",
      "[0 0 0 0 0 0 0 0 0 0]\n",
      "[0 0 0 0 0 0 0 0 0 0]\n",
      "[[0. 0. 0. 0. 0. 0.]\n",
      " [0. 0. 0. 0. 0. 0.]\n",
      " [0. 0. 0. 0. 0. 0.]]\n",
      "[[0 0 0 0 0 0]\n",
      " [0 0 0 0 0 0]\n",
      " [0 0 0 0 0 0]]\n",
      "[[0 0 0 0 0 0]\n",
      " [0 0 0 0 0 0]\n",
      " [0 0 0 0 0 0]]\n",
      "[1. 1. 1. 1. 1. 1. 1. 1. 1. 1.]\n",
      "[[1. 1. 1. 1. 1. 1.]\n",
      " [1. 1. 1. 1. 1. 1.]\n",
      " [1. 1. 1. 1. 1. 1.]]\n",
      "[0.   0.25 0.5  0.75 1.  ]\n",
      "[   1.   10.  100. 1000.]\n"
     ]
    }
   ],
   "source": [
    "# create special arrays\n",
    "print (np.zeros(10))\n",
    "print (np.zeros(10, dtype = np.int8))\n",
    "print (np.zeros(10).astype(int))\n",
    "print (np.zeros((3, 6)))\n",
    "print (np.zeros((3, 6), int))\n",
    "print (np.zeros((3, 6)).astype(int))\n",
    "print (np.ones(10))\n",
    "print (np.ones((3, 6)))\n",
    "print (np.linspace(0, 1, 5))  # 0 to 1 (inclusive) with 5 points\n",
    "print (np.logspace(0, 3, 4))  # 10^0 to 10^3 (inclusive) with 4 points"
   ]
  },
  {
   "cell_type": "code",
   "execution_count": 10,
   "id": "37c17a19-c486-48af-a44d-c06b831e9206",
   "metadata": {},
   "outputs": [
    {
     "name": "stdout",
     "output_type": "stream",
     "text": [
      "[0, 1, 2, 3, 4] <class 'int'> <class 'list'>\n",
      "[0 1 2 3 4] int32 <class 'numpy.ndarray'>\n",
      "[0. 1. 2. 3. 4.] float64 <class 'numpy.ndarray'>\n"
     ]
    }
   ],
   "source": [
    "# arange is like range, except it returns an array (but not a list)\n",
    "int_list = list(range(5))\n",
    "print (int_list, type(int_list[0]), type(int_list))\n",
    "int_array = np.arange(5)\n",
    "print (int_array, int_array.dtype, type(int_array))\n",
    "float_array = int_array.astype(float)\n",
    "print (float_array, float_array.dtype, type(float_array))"
   ]
  },
  {
   "cell_type": "markdown",
   "id": "21425683-10e8-4657-a2b5-8bf0146f6df4",
   "metadata": {},
   "source": [
    "### **Reshaping**"
   ]
  },
  {
   "cell_type": "code",
   "execution_count": 13,
   "id": "95fb06ef-3559-474d-8daf-98353d819ab9",
   "metadata": {},
   "outputs": [
    {
     "name": "stdout",
     "output_type": "stream",
     "text": [
      "[0. 1. 2. 3. 4. 5. 6. 7. 8. 9.] float64 <class 'numpy.ndarray'> (10,)\n",
      "[[0. 1. 2. 3. 4.]\n",
      " [5. 6. 7. 8. 9.]] float64 <class 'numpy.ndarray'> (2, 5)\n",
      "[[0 1 2 3 4]\n",
      " [5 6 7 8 9]] int32 <class 'numpy.ndarray'> (2, 5)\n",
      "[[0 1 2 3 4]\n",
      " [5 6 7 8 9]] int32 <class 'numpy.ndarray'> (2, 5)\n"
     ]
    }
   ],
   "source": [
    "matrix = np.arange(10, dtype = float)\n",
    "print (matrix, matrix.dtype, type(matrix), matrix.shape)\n",
    "matrix = matrix.reshape((2, 5))\n",
    "print (matrix, matrix.dtype, type(matrix), matrix.shape)\n",
    "matrix = matrix.reshape((2, 5)).astype(int)\n",
    "print (matrix, matrix.dtype, type(matrix), matrix.shape)\n",
    "matrix = matrix.astype(int).reshape((2, 5))\n",
    "print (matrix, matrix.dtype, type(matrix), matrix.shape)"
   ]
  },
  {
   "cell_type": "code",
   "execution_count": 17,
   "id": "003afc44-7754-40ad-8a26-027659b6c135",
   "metadata": {},
   "outputs": [
    {
     "name": "stdout",
     "output_type": "stream",
     "text": [
      "[[0 1 2 3 4]\n",
      " [5 6 7 8 9]]\n",
      "[[0 5]\n",
      " [1 6]\n",
      " [2 7]\n",
      " [3 8]\n",
      " [4 9]] int32 <class 'numpy.ndarray'> (5, 2)\n",
      "[0 5 1 6 2 7 3 8 4 9] int32 <class 'numpy.ndarray'> (10,)\n"
     ]
    }
   ],
   "source": [
    "# transpose of a matrix\n",
    "matrix = np.arange(10, dtype = float)\n",
    "matrix = matrix.astype(int).reshape((2, 5))\n",
    "print (matrix)\n",
    "matrix = matrix.T\n",
    "print (matrix, matrix.dtype, type(matrix), matrix.shape)\n",
    "matrix = matrix.flatten()\n",
    "print (matrix, matrix.dtype, type(matrix), matrix.shape)"
   ]
  },
  {
   "cell_type": "code",
   "execution_count": 18,
   "id": "8fc05bbf-8fe4-4dee-8870-e4ecb5ef27a2",
   "metadata": {},
   "outputs": [
    {
     "name": "stdout",
     "output_type": "stream",
     "text": [
      "[[0 1 2 3 4]\n",
      " [5 6 7 8 9]]\n",
      "[[0 5]\n",
      " [1 6]\n",
      " [2 7]\n",
      " [3 8]\n",
      " [4 9]] int32 <class 'numpy.ndarray'> (5, 2)\n",
      "[0 5 1 6 2 7 3 8 4 9] int32 <class 'numpy.ndarray'> (10,)\n"
     ]
    }
   ],
   "source": [
    "# transpose of a matrix\n",
    "matrix = np.arange(10, dtype = float)\n",
    "matrix = matrix.astype(int).reshape((2, 5))\n",
    "print (matrix)\n",
    "matrix = matrix.transpose()\n",
    "print (matrix, matrix.dtype, type(matrix), matrix.shape)\n",
    "matrix = matrix.flatten()\n",
    "print (matrix, matrix.dtype, type(matrix), matrix.shape)"
   ]
  },
  {
   "cell_type": "markdown",
   "id": "59312b0a-f23e-4aa2-8f38-e282e8828bb9",
   "metadata": {},
   "source": [
    "### **Append, Insert, Delete and Sort**"
   ]
  },
  {
   "cell_type": "code",
   "execution_count": 20,
   "id": "8b625d44-7a38-44b5-8cb8-968069477ed9",
   "metadata": {},
   "outputs": [
    {
     "name": "stdout",
     "output_type": "stream",
     "text": [
      "[0 1 2 3 4 5 6 7 8 9] int8 <class 'numpy.ndarray'> (10,)\n",
      "[ 0  1  2  3  4  5  6  7  8  9 10 11 12] int32 <class 'numpy.ndarray'> (13,)\n",
      "[ 0  1  2 13 14 15  3  4  5  6  7  8  9 10 11 12] int32 <class 'numpy.ndarray'> (16,)\n",
      "[ 0  1  2 13 14  5  6  7  8  9 10 11 12] int32 <class 'numpy.ndarray'> (13,)\n",
      "[ 0  1  2 13 14  8  9 10 11 12] int32 <class 'numpy.ndarray'> (10,)\n",
      "[ 0  1  2  8  9 10 11 12 13 14] int32 <class 'numpy.ndarray'> (10,)\n",
      "[14 13 12 11 10  9  8  2  1  0] int32 <class 'numpy.ndarray'> (10,)\n"
     ]
    }
   ],
   "source": [
    "matrix = np.arange(10, dtype = np.int8)\n",
    "print (matrix, matrix.dtype, type(matrix), matrix.shape)\n",
    "matrix = np.append(matrix, [10, 11, 12])\n",
    "print (matrix, matrix.dtype, type(matrix), matrix.shape)\n",
    "matrix = np.insert(matrix, 3, [13, 14, 15])\n",
    "print (matrix, matrix.dtype, type(matrix), matrix.shape)\n",
    "matrix = np.delete(matrix, [5, 6, 7])\n",
    "print (matrix, matrix.dtype, type(matrix), matrix.shape)\n",
    "matrix = np.delete(matrix, range(5, 8))\n",
    "print (matrix, matrix.dtype, type(matrix), matrix.shape)\n",
    "matrix = np.sort(matrix)    # sort in the ascending order\n",
    "print (matrix, matrix.dtype, type(matrix), matrix.shape)\n",
    "matrix = -np.sort(-matrix)    # sort in the descending order\n",
    "print (matrix, matrix.dtype, type(matrix), matrix.shape)"
   ]
  },
  {
   "cell_type": "markdown",
   "id": "d2e35b77-c108-4e6c-851d-9a0cccb00868",
   "metadata": {},
   "source": [
    "### **Concatenation and Stack of 2 Arrays**"
   ]
  },
  {
   "cell_type": "code",
   "execution_count": 23,
   "id": "e90782cf-a1f7-488d-9141-720b3cec5726",
   "metadata": {},
   "outputs": [
    {
     "name": "stdout",
     "output_type": "stream",
     "text": [
      "First array:\n",
      "[[1 2]\n",
      " [3 4]]\n",
      "\n",
      "Second array:\n",
      "[[5 6]\n",
      " [7 8]]\n",
      "\n",
      "Joining the two arrays along axis 0:\n",
      "[[1 2]\n",
      " [3 4]\n",
      " [5 6]\n",
      " [7 8]]\n",
      "\n",
      "Joining the two arrays along axis 1:\n",
      "[[1 2 5 6]\n",
      " [3 4 7 8]]\n"
     ]
    }
   ],
   "source": [
    "a=np.array([[1, 2], [3, 4]])\n",
    "print ('First array:')\n",
    "print (a)\n",
    "print ('')\n",
    "\n",
    "b = np.array([[5, 6], [7, 8]])\n",
    "print ('Second array:')\n",
    "print (b)\n",
    "print ('')\n",
    "\n",
    "# both the arrays are of same dimensions\n",
    "print ('Joining the two arrays along axis 0:')\n",
    "print (np.concatenate((a, b), axis=0))\n",
    "print ('')\n",
    "\n",
    "print ('Joining the two arrays along axis 1:')\n",
    "print (np.concatenate((a, b), axis=1))"
   ]
  },
  {
   "cell_type": "code",
   "execution_count": 24,
   "id": "28da4bbf-78a6-4643-a45f-34019350dc86",
   "metadata": {},
   "outputs": [
    {
     "name": "stdout",
     "output_type": "stream",
     "text": [
      "Stack the two arrays along axis 0:\n",
      "[[[1 2]\n",
      "  [3 4]]\n",
      "\n",
      " [[5 6]\n",
      "  [7 8]]]\n",
      "\n",
      "\n",
      "Stack the two arrays along axis 1:\n",
      "[[[1 2]\n",
      "  [5 6]]\n",
      "\n",
      " [[3 4]\n",
      "  [7 8]]]\n"
     ]
    }
   ],
   "source": [
    "print ('Stack the two arrays along axis 0:')\n",
    "print (np.stack((a, b), 0))\n",
    "print ('\\n')\n",
    "\n",
    "print ('Stack the two arrays along axis 1:')\n",
    "print (np.stack((a, b), 1))"
   ]
  },
  {
   "cell_type": "code",
   "execution_count": 27,
   "id": "bfadcf7a-66e9-4b30-9f39-99ae9e076392",
   "metadata": {},
   "outputs": [
    {
     "name": "stdout",
     "output_type": "stream",
     "text": [
      "[[100 200 300 400]] <class 'numpy.ndarray'> 2\n",
      "[100 200 300 400] <class 'numpy.ndarray'> 1\n",
      "[[[100 200 300 400]]] <class 'numpy.ndarray'> 3\n",
      "[[[100]\n",
      "  [200]\n",
      "  [300]\n",
      "  [400]]] <class 'numpy.ndarray'> 2\n"
     ]
    }
   ],
   "source": [
    "matrix = np.array([[100, 200, 300, 400]])\n",
    "print (matrix, type(matrix), matrix.ndim)\n",
    "arr = matrix.reshape(-1)\n",
    "print (arr, type(arr), arr.ndim)\n",
    "arr = matrix.reshape(-1, 1, 4)\n",
    "print (arr, type(arr), arr.ndim)\n",
    "arr = matrix.reshape(1, 4, -1)\n",
    "print (arr, type(arr), matrix.ndim)"
   ]
  },
  {
   "cell_type": "markdown",
   "id": "5eaa4f58-48ee-42d7-bff6-1ee875c11bf1",
   "metadata": {},
   "source": [
    "### **Selection**"
   ]
  },
  {
   "cell_type": "code",
   "execution_count": 28,
   "id": "b08b8e53-8af6-4e1d-a3bc-e1e7d6844480",
   "metadata": {},
   "outputs": [
    {
     "name": "stdout",
     "output_type": "stream",
     "text": [
      "[1 2 3 4 5] <class 'numpy.ndarray'> int32 (5,)\n",
      "1 1\n",
      "5 5\n",
      "[3 4 5] [1 2 3]\n",
      "[5 4 3 2 1]\n"
     ]
    }
   ],
   "source": [
    "data1 = [1, 2, 3, 4, 5]        # list\n",
    "arr1 = np.array(data1)         # 1-D array\n",
    "print (arr1, type(arr1), arr1.dtype, arr1.shape)\n",
    "print (arr1[0], arr1[-5])      # 0-th element (indexing like a list)\n",
    "print (arr1[4], arr1[-1])\n",
    "print (arr1[2:], arr1[:3])\n",
    "print (arr1[::-1])"
   ]
  },
  {
   "cell_type": "markdown",
   "id": "d79a9bb3-cdf5-446d-a2e4-6844044b56bb",
   "metadata": {},
   "source": [
    "### **Views and copies**"
   ]
  },
  {
   "cell_type": "code",
   "execution_count": 29,
   "id": "25711bac-f3c4-4cc8-a8ce-5e1fefcf1abf",
   "metadata": {},
   "outputs": [
    {
     "name": "stdout",
     "output_type": "stream",
     "text": [
      "[0 1 2 3 4 5 6 7 8 9] <class 'numpy.ndarray'> int32 (10,)\n",
      "[5 6 7]\n",
      "[ 0  1  2  3  4 12 12 12  8  9]\n",
      "[12 12 12] <class 'numpy.ndarray'> int32 (3,)\n",
      "[13 13 13]\n",
      "[ 0  1  2  3  4 13 13 13  8  9]\n",
      "[13 13 13] <class 'numpy.ndarray'> int32 (3,)\n",
      "[14 14 14]\n",
      "[ 0  1  2  3  4 13 13 13  8  9]\n"
     ]
    }
   ],
   "source": [
    "arr = np.arange(10)\n",
    "print (arr, type(arr), arr.dtype, arr.shape)\n",
    "print (arr[5:8])\n",
    "arr[5:8] = 12       # all the pre-existing values at those index places will be over-written\n",
    "print (arr)\n",
    "arr_view = arr[5:8]   # creates a view of arr, not a copy\n",
    "print (arr_view, type(arr_view), arr_view.dtype, arr_view.shape)\n",
    "arr_view[:] = 13\n",
    "print (arr_view)\n",
    "print (arr)\n",
    "arr_copy = arr[5:8].copy()   # creates a copy of arr\n",
    "print (arr_copy, type(arr_copy), arr_copy.dtype, arr_copy.shape)\n",
    "arr_copy[:] = 14\n",
    "print (arr_copy)\n",
    "print (arr)"
   ]
  },
  {
   "cell_type": "markdown",
   "id": "399f8d4e-2fe6-4c2d-b7ce-3017c71fd544",
   "metadata": {},
   "source": [
    "### **Using Boolean Arrays**"
   ]
  },
  {
   "cell_type": "code",
   "execution_count": 32,
   "id": "fca310f0-2e23-4bfb-b84f-e5a32644fe20",
   "metadata": {},
   "outputs": [
    {
     "name": "stdout",
     "output_type": "stream",
     "text": [
      "[1 2 3 4 5 6 7 8 9] [False False False False False  True  True  True  True]\n",
      "[6 7 8 9] [1 2 3 4 5]\n",
      "[False  True False  True False  True False  True False]\n",
      "[2 4 6 8]\n",
      "[4 5 6 7]\n",
      "[ 0  6 12 18 24 30 36 42 48 54 60]\n"
     ]
    }
   ],
   "source": [
    "arr = np.array([1, 2, 3, 4, 5, 6, 7, 8, 9])\n",
    "print (arr, arr > 5)\n",
    "print (arr[arr > 5], arr[~(arr > 5)])  # ~ denotes not\n",
    "print (arr % 2 == 0)\n",
    "print (arr[arr % 2 == 0])\n",
    "print (arr[(arr > 3) & (arr < 8)])\n",
    "arr = np.arange(0, 61)\n",
    "print (arr[(arr % 2 == 0) & (arr % 3 == 0)])"
   ]
  },
  {
   "cell_type": "code",
   "execution_count": 33,
   "id": "3389bab4-8470-45d9-8b2e-b48e52d9095d",
   "metadata": {},
   "outputs": [
    {
     "name": "stdout",
     "output_type": "stream",
     "text": [
      "['Bob' 'Joe' 'Will' 'Bob']\n",
      "[ True False False  True]\n",
      "['Bob' 'Bob']\n",
      "['Joe' 'Will']\n",
      "['Bob' 'Will' 'Bob']\n",
      "['Bob' 'Tom' 'Tom' 'Bob']\n",
      "['Bob' 'Tom']\n"
     ]
    }
   ],
   "source": [
    "names = np.array(['Bob', 'Joe', 'Will', 'Bob'])\n",
    "print (names)\n",
    "print (names == 'Bob')\n",
    "print (names[names == 'Bob'])\n",
    "print (names[names != 'Bob'])\n",
    "print (names[(names == 'Bob') | (names == 'Will')])  # don't use or but use |\n",
    "names[names != 'Bob'] = 'Tom'   # assign based on a logical selection\n",
    "print (names)\n",
    "print (np.unique(names))        # getting all unique names"
   ]
  },
  {
   "cell_type": "markdown",
   "id": "71b05d13-2dd0-41d8-8ef6-31fad2870588",
   "metadata": {},
   "source": [
    "### **Vectorized Operations**"
   ]
  },
  {
   "cell_type": "code",
   "execution_count": 34,
   "id": "d57cbbb3-7eff-4697-93b3-e5cb97bd1079",
   "metadata": {},
   "outputs": [
    {
     "name": "stdout",
     "output_type": "stream",
     "text": [
      "[0 1 2 3 4]\n",
      "[ 0  5 10 15 20]\n",
      "[0.         1.         1.41421356 1.73205081 2.        ]\n",
      "[0. 1. 2. 2. 2.]\n",
      "[0. 1. 1. 1. 2.]\n",
      "[0 2 4 6 8]\n",
      "[False False False False False]\n",
      "[0 2 4 6 8]\n"
     ]
    }
   ],
   "source": [
    "nums = np.arange(5)\n",
    "print (nums)\n",
    "print (nums * 5)         # multiply each element by 5\n",
    "nums = np.sqrt(nums)     # square root of each element\n",
    "print (nums)       \n",
    "print (np.ceil(nums))    # finding ceiling of each element\n",
    "print (np.floor(nums))   # finding floor of each element\n",
    "nums = np.arange(5)\n",
    "print (nums + np.arange(5)) # add element wise\n",
    "print (np.isnan(nums))   # checks for NaN\n",
    "nums = 2 * nums\n",
    "print (nums)"
   ]
  },
  {
   "cell_type": "code",
   "execution_count": 35,
   "id": "6a55a27d-e031-491f-a45b-8481e9afeb28",
   "metadata": {},
   "outputs": [
    {
     "name": "stdout",
     "output_type": "stream",
     "text": [
      "[0 1 2 3 4]\n",
      "[10  1 13  3  5]\n",
      "[ 0 -2  2 -4  4]\n"
     ]
    }
   ],
   "source": [
    "nums = np.arange(5)\n",
    "print (nums)\n",
    "print (np.maximum(nums, np.array([10, -2, 13, -4, 5]))) # compare element wise\n",
    "print (np.minimum(nums, np.array([10, -2, 13, -4, 5])))"
   ]
  },
  {
   "cell_type": "code",
   "execution_count": 36,
   "id": "5ce4b3dc-b179-4a45-84dc-5ac04d2a8d3e",
   "metadata": {},
   "outputs": [
    {
     "name": "stdout",
     "output_type": "stream",
     "text": [
      "[ 0.58370713 -0.79156106 -0.51549498  1.70654707  0.29855347  0.13242035\n",
      "  1.55296924  1.2942879   0.74922702 -0.95039368] 0.4060262459460911 0.9030449060550332\n",
      "[-1.17409796  0.54860724  0.0292252  -0.82123274 -0.92773899  0.0949012\n",
      "  0.38572463 -0.43683824 -0.82717004  0.0777171 ] -0.3050902581468487 0.5764997682908649\n"
     ]
    }
   ],
   "source": [
    "vect1 = np.random.randn(10)   # normalized random numbers, average and std near to 0 and 1 respectively\n",
    "print (vect1, np.average(vect1), np.std(vect1))\n",
    "vect2 = np.random.randn(10)\n",
    "print (vect2, np.average(vect2), np.std(vect2))"
   ]
  },
  {
   "cell_type": "code",
   "execution_count": 37,
   "id": "8c7aa3e9-42ef-4041-9b48-5ef26cfcd9a2",
   "metadata": {},
   "outputs": [
    {
     "name": "stdout",
     "output_type": "stream",
     "text": [
      "[-1.02077432  0.23048407 -1.24756172 ... -0.17557384 -0.44464391\n",
      "  0.84365625] 0.0027417434257655587 1.010314153431256\n",
      "[-2.15316457  0.69715276 -1.48518944 ... -1.5055282  -1.52594605\n",
      "  0.3223855 ] -0.0005817511488698947 1.0036896727144393\n"
     ]
    }
   ],
   "source": [
    "vect1 = np.random.randn(10000)   # normalized random numbers, average and std near to 0 and 1 respectively\n",
    "print (vect1, np.average(vect1), np.std(vect1))\n",
    "vect2 = np.random.randn(10000)\n",
    "print (vect2, np.average(vect2), np.std(vect2))"
   ]
  },
  {
   "cell_type": "code",
   "execution_count": 43,
   "id": "df1f684f-ed9f-4415-8a4b-cd1d576fac23",
   "metadata": {},
   "outputs": [
    {
     "name": "stdout",
     "output_type": "stream",
     "text": [
      "[0.94667099 0.8073096  0.46856964 0.72797601 0.23348598 0.09605216\n",
      " 0.89686116 0.34137415 0.04831693 0.6489428 ]\n"
     ]
    }
   ],
   "source": [
    "vec1 = np.random.rand(10)   # random numbers ranging from 0 to 1\n",
    "print (vec1)"
   ]
  },
  {
   "cell_type": "code",
   "execution_count": 44,
   "id": "dbbbb8b8-9fc6-41a5-bf35-8c9524503866",
   "metadata": {},
   "outputs": [
    {
     "name": "stdout",
     "output_type": "stream",
     "text": [
      "[[-0.06470675  0.57883746]\n",
      " [ 0.51648768  0.69731007]\n",
      " [-1.05076967 -1.03608142]\n",
      " [-0.10738135 -0.47394536]]\n",
      "-0.11753116674104613\n",
      "0.6514856679367429\n",
      "4 3\n",
      "[-0.70637009 -0.23387925]\n",
      "[ 0.51413071  1.21379776 -2.0868511  -0.58132671]\n"
     ]
    }
   ],
   "source": [
    "# math and stats\n",
    "rnd = np.random.randn(4, 2)\n",
    "print (rnd)\n",
    "print (rnd.mean())\n",
    "print (rnd.std())\n",
    "print (rnd.argmin(), rnd.argmax())   # index of the minimum and maximum element\n",
    "print (rnd.sum(axis = 0))   # sum of columns\n",
    "print (rnd.sum(axis = 1))   # sum of rows"
   ]
  },
  {
   "cell_type": "code",
   "execution_count": 52,
   "id": "e7dc62d0-d6ab-41f9-91a5-52de21f84d55",
   "metadata": {},
   "outputs": [
    {
     "name": "stdout",
     "output_type": "stream",
     "text": [
      "[[0.30623218 0.26506357 0.19606006]\n",
      " [0.43052148 0.02311355 0.19578192]]\n",
      "[-1.20658558 -0.64172681  1.30794563  1.84546043  0.82911495 -0.02329881\n",
      " -0.20856395 -0.91661975 -1.07474258 -0.08614349]\n",
      "[0 0 1 1 1 0 0 0 1 0]\n"
     ]
    }
   ],
   "source": [
    "# random numbers\n",
    "np.random.seed(1001)            # set the seed value for the random number generation\n",
    "nums = np.random.rand(2, 3)     # 2 x 3 matrix\n",
    "print (nums)\n",
    "nums = np.random.randn(10)      # random normals (mean with 0 and std with 1)\n",
    "print (nums)\n",
    "nums = np.random.randint(0, 2, 10)    # 10 randomly picked 0 or 1\n",
    "print (nums)"
   ]
  },
  {
   "cell_type": "code",
   "execution_count": 56,
   "id": "26f01a75-e2e2-4cb8-af5d-ce8da616a9cc",
   "metadata": {},
   "outputs": [
    {
     "name": "stdout",
     "output_type": "stream",
     "text": [
      "[[0.43428678 0.56856169 0.01962086]\n",
      " [0.36514669 0.46953891 0.24526653]]\n"
     ]
    }
   ],
   "source": [
    "nums = np.random.rand(2, 3)     # 2 x 3 matrix\n",
    "print (nums)"
   ]
  },
  {
   "cell_type": "code",
   "execution_count": 57,
   "id": "881062a6-16e9-4f5a-9b4a-5999d3f68bf8",
   "metadata": {},
   "outputs": [
    {
     "name": "stdout",
     "output_type": "stream",
     "text": [
      "[[ 0  0  0]\n",
      " [10 10 10]\n",
      " [20 20 20]\n",
      " [30 30 30]] <class 'numpy.ndarray'>\n",
      "[[ 0]\n",
      " [10]\n",
      " [20]\n",
      " [30]] <class 'numpy.ndarray'>\n",
      "[[0 1 2]\n",
      " [0 1 2]\n",
      " [0 1 2]\n",
      " [0 1 2]] <class 'numpy.ndarray'>\n",
      "[0 1 2] <class 'numpy.ndarray'>\n",
      "[[ 0  1  2]\n",
      " [10 11 12]\n",
      " [20 21 22]\n",
      " [30 31 32]]\n",
      "[[ 0  1  2]\n",
      " [10 11 12]\n",
      " [20 21 22]\n",
      " [30 31 32]]\n",
      "[[ 0  1  2]\n",
      " [10 11 12]\n",
      " [20 21 22]\n",
      " [30 31 32]]\n",
      "[[ 0  1  2]\n",
      " [10 11 12]\n",
      " [20 21 22]\n",
      " [30 31 32]]\n"
     ]
    }
   ],
   "source": [
    "a1 = np.array([[ 0,  0,  0],\n",
    "               [10, 10, 10],\n",
    "               [20, 20, 20],\n",
    "               [30, 30, 30]])\n",
    "print (a1, type(a1))\n",
    "a2 = np.array([[0], [10], [20], [30]])\n",
    "print (a2, type(a2))\n",
    "\n",
    "b1 = np.array([[0, 1, 2],\n",
    "               [0, 1, 2],\n",
    "               [0, 1, 2],               \n",
    "               [0, 1, 2]])\n",
    "print (b1, type(b1))\n",
    "b2 = np.array([0, 1, 2])\n",
    "print (b2, type(b2))\n",
    "\n",
    "result = a1 + b1\n",
    "print (result)\n",
    "\n",
    "result = a1 + b2\n",
    "print (result)\n",
    "\n",
    "result = a2 + b1\n",
    "print (result)\n",
    "\n",
    "result = a2 + b2\n",
    "print (result)"
   ]
  },
  {
   "cell_type": "code",
   "execution_count": null,
   "id": "cdcf1905-da91-4565-98e2-c0ced9b2c810",
   "metadata": {},
   "outputs": [],
   "source": []
  },
  {
   "cell_type": "code",
   "execution_count": null,
   "id": "a5db07cb-cd45-420c-a236-137c5dededea",
   "metadata": {},
   "outputs": [],
   "source": []
  }
 ],
 "metadata": {
  "kernelspec": {
   "display_name": "Python 3 (ipykernel)",
   "language": "python",
   "name": "python3"
  },
  "language_info": {
   "codemirror_mode": {
    "name": "ipython",
    "version": 3
   },
   "file_extension": ".py",
   "mimetype": "text/x-python",
   "name": "python",
   "nbconvert_exporter": "python",
   "pygments_lexer": "ipython3",
   "version": "3.10.9"
  }
 },
 "nbformat": 4,
 "nbformat_minor": 5
}
